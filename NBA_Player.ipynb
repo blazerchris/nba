{
 "cells": [
  {
   "cell_type": "code",
   "execution_count": 1,
   "metadata": {
    "collapsed": true
   },
   "outputs": [],
   "source": [
    "from selenium import webdriver\n",
    "from selenium.webdriver.common.by import By\n",
    "from selenium.webdriver.support.ui import WebDriverWait\n",
    "from selenium.webdriver.support import expected_conditions as EC\n",
    "import collections\n",
    "import time\n",
    "import csv\n",
    "import datetime"
   ]
  },
  {
   "cell_type": "code",
   "execution_count": 3,
   "metadata": {
    "collapsed": false
   },
   "outputs": [],
   "source": [
    "driver = webdriver.Chrome(\"D:/Downloads/chromedriver_win32/chromedriver.exe\")"
   ]
  },
  {
   "cell_type": "code",
   "execution_count": 89,
   "metadata": {
    "collapsed": true
   },
   "outputs": [],
   "source": [
    "player_id = \"201566\""
   ]
  },
  {
   "cell_type": "code",
   "execution_count": 90,
   "metadata": {
    "collapsed": true
   },
   "outputs": [],
   "source": [
    "player_link = \"http://stats.nba.com/player/#!/\"+player_id+\"/gamelogs/?Season=2016-17&SeasonType=Regular%20Season\""
   ]
  },
  {
   "cell_type": "code",
   "execution_count": 8,
   "metadata": {
    "collapsed": true
   },
   "outputs": [],
   "source": [
    "driver.get(game_link+game_id[0])"
   ]
  },
  {
   "cell_type": "code",
   "execution_count": 7,
   "metadata": {
    "collapsed": false
   },
   "outputs": [
    {
     "data": {
      "text/plain": [
       "\"while True:\\n    try:\\n        button = driver.find_element_by_xpath('/html/body/main/div[2]/div/div/div[3]/div/div/div/nba-stat-table/div[2]/div/a')\\n        button.click()\\n        time.sleep(5)\\n    except:\\n        break\""
      ]
     },
     "execution_count": 7,
     "metadata": {},
     "output_type": "execute_result"
    }
   ],
   "source": [
    "while True:\n",
    "    try:\n",
    "        button = driver.find_element_by_xpath('/html/body/main/div[2]/div/div/div[3]/div/div/div/nba-stat-table/div[2]/div/a')\n",
    "        button.click()\n",
    "        time.sleep(5)\n",
    "    except:\n",
    "        break"
   ]
  },
  {
   "cell_type": "code",
   "execution_count": 93,
   "metadata": {
    "collapsed": true
   },
   "outputs": [],
   "source": [
    "games = driver.find_elements_by_xpath('/html/body/main/div[2]/div/div/div[3]/div/div/div/nba-stat-table/div[1]/div[1]/table/tbody/tr')"
   ]
  },
  {
   "cell_type": "code",
   "execution_count": 126,
   "metadata": {
    "collapsed": false
   },
   "outputs": [
    {
     "data": {
      "text/plain": [
       "113"
      ]
     },
     "execution_count": 126,
     "metadata": {},
     "output_type": "execute_result"
    }
   ],
   "source": [
    "csv_file = open('test.csv', 'w')\n",
    "writer = csv.writer(csv_file)\n",
    "writer.writerow(['ID','DATE','OPPONENT','W/L','HOME/AWAY','MIN', 'PTS', 'FGM', 'FGA', 'FG%', '3PM', '3PA', '3P%',\n",
    "                 'FTM', 'FTA', 'FT%', 'OREB', 'DREB', 'REB', 'AST', 'STL', 'BLK', 'TOV', 'PF', '+/-'])"
   ]
  },
  {
   "cell_type": "code",
   "execution_count": 127,
   "metadata": {
    "collapsed": false
   },
   "outputs": [],
   "source": [
    "for game in games:\n",
    "    game_dict = collections.OrderedDict()\n",
    "    game_meta = game.find_element_by_xpath('.//td[1]/a')\n",
    "    game_date = datetime.datetime.strptime(game_meta.text[0:12],\"%b %d, %Y\").strftime(\"%Y/%m/%d\")\n",
    "    f = lambda x: \"A\" if x == \"@\" else \"H\"\n",
    "    homeAway = f(game_meta.text[19])\n",
    "    Opp = game_meta.text[-3:]\n",
    "    game_id = game_meta.get_attribute(\"href\")[29:]\n",
    "    WL = game.find_element_by_xpath('.//td[2]').text\n",
    "    Min = game.find_element_by_xpath('.//td[3]').text\n",
    "    Pts = game.find_element_by_xpath('.//td[4]').text\n",
    "    FGM = game.find_element_by_xpath('.//td[5]').text\n",
    "    FGA = game.find_element_by_xpath('.//td[6]').text\n",
    "    FGper = game.find_element_by_xpath('.//td[7]').text\n",
    "    threePM = game.find_element_by_xpath('.//td[8]').text\n",
    "    threePA = game.find_element_by_xpath('.//td[9]').text\n",
    "    threePper = game.find_element_by_xpath('.//td[10]').text\n",
    "    FTM = game.find_element_by_xpath('.//td[11]').text\n",
    "    FTA = game.find_element_by_xpath('.//td[12]').text\n",
    "    FTper = game.find_element_by_xpath('.//td[13]').text\n",
    "    OReb = game.find_element_by_xpath('.//td[14]').text\n",
    "    DReb = game.find_element_by_xpath('.//td[15]').text\n",
    "    Reb = game.find_element_by_xpath('.//td[16]').text\n",
    "    Ast = game.find_element_by_xpath('.//td[17]').text\n",
    "    Stl = game.find_element_by_xpath('.//td[18]').text\n",
    "    Blk = game.find_element_by_xpath('.//td[19]').text\n",
    "    TOv = game.find_element_by_xpath('.//td[20]').text\n",
    "    PF = game.find_element_by_xpath('.//td[21]').text\n",
    "    plusMinus = game.find_element_by_xpath('.//td[22]').text\n",
    "\n",
    "    game_dict['ID'] = game_id\n",
    "    game_dict['Date'] = game_date\n",
    "    game_dict['Opponent'] = Opp\n",
    "    game_dict['WL'] = WL\n",
    "    game_dict['Home/Away'] = homeAway\n",
    "    game_dict['Min'] = Min\n",
    "    game_dict['Pts'] = Pts\n",
    "    game_dict['FGM'] = FGM\n",
    "    game_dict['FGA'] = FGA\n",
    "    game_dict['FGper'] = FGper\n",
    "    game_dict['threePM'] = threePM\n",
    "    game_dict['threePA'] = threePA\n",
    "    game_dict['threePper'] = threePper\n",
    "    game_dict['FTM'] = FTM\n",
    "    game_dict['FTA'] = FTA\n",
    "    game_dict['FTper'] = FTper\n",
    "    game_dict['OReb'] = OReb\n",
    "    game_dict['DReb'] = DReb\n",
    "    game_dict['Reb'] = Reb\n",
    "    game_dict['Ast'] = Ast\n",
    "    game_dict['Stl'] = Stl\n",
    "    game_dict['Blk'] = Blk\n",
    "    game_dict['TOv'] = TOv\n",
    "    game_dict['PF'] = PF\n",
    "    game_dict['plusMinus'] = plusMinus\n",
    "    \n",
    "    writer.writerow(game_dict.values())"
   ]
  },
  {
   "cell_type": "code",
   "execution_count": 128,
   "metadata": {
    "collapsed": false
   },
   "outputs": [],
   "source": [
    "csv_file.close()"
   ]
  },
  {
   "cell_type": "code",
   "execution_count": 9,
   "metadata": {
    "collapsed": true
   },
   "outputs": [],
   "source": [
    "driver.close()"
   ]
  }
 ],
 "metadata": {
  "kernelspec": {
   "display_name": "Python 3",
   "language": "python",
   "name": "python3"
  },
  "language_info": {
   "codemirror_mode": {
    "name": "ipython",
    "version": 3
   },
   "file_extension": ".py",
   "mimetype": "text/x-python",
   "name": "python",
   "nbconvert_exporter": "python",
   "pygments_lexer": "ipython3",
   "version": "3.6.0"
  }
 },
 "nbformat": 4,
 "nbformat_minor": 2
}
