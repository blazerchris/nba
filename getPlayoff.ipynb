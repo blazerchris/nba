{
 "cells": [
  {
   "cell_type": "code",
   "execution_count": 1,
   "metadata": {
    "collapsed": true
   },
   "outputs": [],
   "source": [
    "from selenium import webdriver\n",
    "from selenium.webdriver.common.by import By\n",
    "from selenium.webdriver.support.ui import WebDriverWait\n",
    "from selenium.webdriver.support import expected_conditions as EC\n",
    "import collections\n",
    "import csv\n",
    "import time"
   ]
  },
  {
   "cell_type": "code",
   "execution_count": 2,
   "metadata": {
    "collapsed": true
   },
   "outputs": [],
   "source": [
    "#driver = webdriver.Chrome(\"/Users/Chris/Documents/chromedriver.exe\")\n",
    "driver = webdriver.Chrome('/Users/zhengyi/Documents/Analytics Tool/chromedriver')"
   ]
  },
  {
   "cell_type": "code",
   "execution_count": 4,
   "metadata": {
    "collapsed": false,
    "scrolled": true
   },
   "outputs": [],
   "source": [
    "playoffs = list()\n",
    "for year in range(1991,1996):\n",
    "    url = \"http://www.basketball-reference.com/leagues/NBA_%d.html\" % year\n",
    "    driver.get(url)\n",
    "    initial = driver.find_element_by_id(\"all_playoffs\")\n",
    "    l = list()\n",
    "    for item in initial.find_elements_by_xpath('.//tbody/tr'):\n",
    "        for href in item.find_elements_by_xpath('.//td[2]/a'):\n",
    "            l.append(href.get_attribute('href')[-13:-10])\n",
    "    playoffs.append((year,l[0],5))\n",
    "    playoffs.append((year,l[1],4))\n",
    "    for x in l[1::2][1:3]:\n",
    "        playoffs.append((year,x,3))\n",
    "    for y in l[1::2][3:7]:\n",
    "        playoffs.append((year,y,2))\n",
    "    for z in l[1::2][7:]:\n",
    "        playoffs.append((year,z,1))"
   ]
  },
  {
   "cell_type": "code",
   "execution_count": 5,
   "metadata": {
    "collapsed": false
   },
   "outputs": [
    {
     "data": {
      "text/plain": [
       "[(1991, 'CHI', 5),\n",
       " (1991, 'LAL', 4),\n",
       " (1991, 'DET', 3),\n",
       " (1991, 'POR', 3),\n",
       " (1991, 'PHI', 2),\n",
       " (1991, 'BOS', 2),\n",
       " (1991, 'GSW', 2),\n",
       " (1991, 'UTA', 2),\n",
       " (1991, 'IND', 1),\n",
       " (1991, 'NYK', 1),\n",
       " (1991, 'ATL', 1),\n",
       " (1991, 'MIL', 1),\n",
       " (1991, 'SAS', 1),\n",
       " (1991, 'HOU', 1),\n",
       " (1991, 'SEA', 1),\n",
       " (1991, 'PHO', 1),\n",
       " (1992, 'CHI', 5),\n",
       " (1992, 'POR', 4),\n",
       " (1992, 'CLE', 3),\n",
       " (1992, 'UTA', 3),\n",
       " (1992, 'NYK', 2),\n",
       " (1992, 'BOS', 2),\n",
       " (1992, 'PHO', 2),\n",
       " (1992, 'SEA', 2),\n",
       " (1992, 'IND', 1),\n",
       " (1992, 'MIA', 1),\n",
       " (1992, 'NJN', 1),\n",
       " (1992, 'DET', 1),\n",
       " (1992, 'SAS', 1),\n",
       " (1992, 'LAL', 1),\n",
       " (1992, 'GSW', 1),\n",
       " (1992, 'LAC', 1),\n",
       " (1993, 'CHI', 5),\n",
       " (1993, 'PHO', 4),\n",
       " (1993, 'NYK', 3),\n",
       " (1993, 'SEA', 3),\n",
       " (1993, 'CLE', 2),\n",
       " (1993, 'CHH', 2),\n",
       " (1993, 'SAS', 2),\n",
       " (1993, 'HOU', 2),\n",
       " (1993, 'BOS', 1),\n",
       " (1993, 'ATL', 1),\n",
       " (1993, 'NJN', 1),\n",
       " (1993, 'IND', 1),\n",
       " (1993, 'LAC', 1),\n",
       " (1993, 'LAL', 1),\n",
       " (1993, 'POR', 1),\n",
       " (1993, 'UTA', 1),\n",
       " (1994, 'HOU', 5),\n",
       " (1994, 'NYK', 4),\n",
       " (1994, 'IND', 3),\n",
       " (1994, 'UTA', 3),\n",
       " (1994, 'ATL', 2),\n",
       " (1994, 'CHI', 2),\n",
       " (1994, 'PHO', 2),\n",
       " (1994, 'DEN', 2),\n",
       " (1994, 'MIA', 1),\n",
       " (1994, 'CLE', 1),\n",
       " (1994, 'ORL', 1),\n",
       " (1994, 'NJN', 1),\n",
       " (1994, 'SEA', 1),\n",
       " (1994, 'POR', 1),\n",
       " (1994, 'GSW', 1),\n",
       " (1994, 'SAS', 1),\n",
       " (1995, 'HOU', 5),\n",
       " (1995, 'ORL', 4),\n",
       " (1995, 'IND', 3),\n",
       " (1995, 'SAS', 3),\n",
       " (1995, 'NYK', 2),\n",
       " (1995, 'CHI', 2),\n",
       " (1995, 'PHO', 2),\n",
       " (1995, 'LAL', 2),\n",
       " (1995, 'CHH', 1),\n",
       " (1995, 'ATL', 1),\n",
       " (1995, 'CLE', 1),\n",
       " (1995, 'BOS', 1),\n",
       " (1995, 'UTA', 1),\n",
       " (1995, 'SEA', 1),\n",
       " (1995, 'POR', 1),\n",
       " (1995, 'DEN', 1)]"
      ]
     },
     "execution_count": 5,
     "metadata": {},
     "output_type": "execute_result"
    }
   ],
   "source": [
    "playoffs"
   ]
  },
  {
   "cell_type": "code",
   "execution_count": 6,
   "metadata": {
    "collapsed": false
   },
   "outputs": [],
   "source": [
    "import pandas as pd"
   ]
  },
  {
   "cell_type": "code",
   "execution_count": 7,
   "metadata": {
    "collapsed": true
   },
   "outputs": [],
   "source": [
    "df = pd.DataFrame.from_records(playoffs,columns=[\"Year\",\"Team\",\"Playoffs\"])"
   ]
  },
  {
   "cell_type": "code",
   "execution_count": 8,
   "metadata": {
    "collapsed": false
   },
   "outputs": [],
   "source": [
    "df.to_csv(\"playoffs91to95.csv\",index=False)"
   ]
  },
  {
   "cell_type": "code",
   "execution_count": 9,
   "metadata": {
    "collapsed": true
   },
   "outputs": [],
   "source": [
    "df2 = pd.read_csv('playoffs.csv')"
   ]
  },
  {
   "cell_type": "code",
   "execution_count": 12,
   "metadata": {
    "collapsed": false
   },
   "outputs": [],
   "source": [
    "df3 = pd.concat([df,df2])\n",
    "df3.to_csv(\"playoffs91to16.csv\",index=False)"
   ]
  },
  {
   "cell_type": "code",
   "execution_count": null,
   "metadata": {
    "collapsed": true
   },
   "outputs": [],
   "source": []
  }
 ],
 "metadata": {
  "kernelspec": {
   "display_name": "Python 3",
   "language": "python",
   "name": "python3"
  },
  "language_info": {
   "codemirror_mode": {
    "name": "ipython",
    "version": 3
   },
   "file_extension": ".py",
   "mimetype": "text/x-python",
   "name": "python",
   "nbconvert_exporter": "python",
   "pygments_lexer": "ipython3",
   "version": "3.6.0"
  }
 },
 "nbformat": 4,
 "nbformat_minor": 2
}
