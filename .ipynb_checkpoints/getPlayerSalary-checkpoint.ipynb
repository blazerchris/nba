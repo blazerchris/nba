{
 "cells": [
  {
   "cell_type": "code",
   "execution_count": 1,
   "metadata": {
    "collapsed": true
   },
   "outputs": [],
   "source": [
    "from selenium import webdriver\n",
    "from selenium.webdriver.common.by import By\n",
    "from selenium.webdriver.support.ui import WebDriverWait\n",
    "from selenium.webdriver.support import expected_conditions as EC\n",
    "import collections\n",
    "import csv\n",
    "import time"
   ]
  },
  {
   "cell_type": "code",
   "execution_count": 2,
   "metadata": {
    "collapsed": true
   },
   "outputs": [],
   "source": [
    "import numpy as py\n",
    "import pandas as pd"
   ]
  },
  {
   "cell_type": "code",
   "execution_count": 3,
   "metadata": {
    "collapsed": true
   },
   "outputs": [],
   "source": [
    "driver = webdriver.Chrome(\"/Users/Chris/Documents/chromedriver.exe\")"
   ]
  },
  {
   "cell_type": "code",
   "execution_count": 5,
   "metadata": {
    "collapsed": true
   },
   "outputs": [],
   "source": [
    "def getPlayerSalaryV1(teams,years):\n",
    "    salary_list = list()\n",
    "    error_list = list()\n",
    "    for year in years:\n",
    "        for team in teams:\n",
    "            url = \"http://www.basketball-reference.com/teams/%s/%d.html\" % (team, year)\n",
    "            driver.get(url)\n",
    "            try:\n",
    "                salary = driver.find_element_by_id(\"salaries2\").text\n",
    "                salaries = salary.split(\"\\n\")[1:]\n",
    "                for player in salaries:\n",
    "                    temp = player.split(\" \")\n",
    "                    name = \" \".join(temp[1:-1])\n",
    "                    num = ''.join(temp[-1][1:].split(\",\"))\n",
    "                    salary_list.append((team,int(year),name,int(num)))\n",
    "            except:\n",
    "                error_list.append((year,team))\n",
    "    return salary_list,error_list"
   ]
  },
  {
   "cell_type": "code",
   "execution_count": 6,
   "metadata": {
    "collapsed": true
   },
   "outputs": [],
   "source": [
    "def getPlayerSalaryV2(teams,years):\n",
    "    salary_list = list()\n",
    "    error_list = list()\n",
    "    for year in years:\n",
    "        for team in teams:\n",
    "            url = \"http://www.basketball-reference.com/teams/%s/%d.html\" % (team, year)\n",
    "            driver.get(url)\n",
    "            try:\n",
    "                salary = driver.find_element_by_id(\"all_salaries\").text\n",
    "                salaries = salary.split(\"\\n\")[2:]\n",
    "                for player in salaries:\n",
    "                    temp = player.split(\" \")\n",
    "                    name = \" \".join(temp[1:-1])\n",
    "                    num = ''.join(temp[-1][1:].split(\",\"))\n",
    "                    salary_list.append((team,int(year),name,int(num)))\n",
    "            except:\n",
    "                error_list.append((year,team))\n",
    "    return salary_list,error_list"
   ]
  },
  {
   "cell_type": "code",
   "execution_count": 7,
   "metadata": {
    "collapsed": true
   },
   "outputs": [],
   "source": [
    "def getPlayerSalaryV3(teams,years):\n",
    "    salary_list = list()\n",
    "    error_list = list()\n",
    "    for year in years:\n",
    "        for team in teams:\n",
    "            url = \"http://www.basketball-reference.com/teams/%s/%d.html\" % (team, year)\n",
    "            driver.get(url)\n",
    "            try:\n",
    "                salary = driver.find_element_by_id(\"all_salaries2\").text\n",
    "                salaries = salary.split(\"\\n\")[2:]\n",
    "                for player in salaries:\n",
    "                    temp = player.split(\" \")\n",
    "                    name = \" \".join(temp[1:-1])\n",
    "                    num = ''.join(temp[-1][1:].split(\",\"))\n",
    "                    salary_list.append((team,int(year),name,int(num)))\n",
    "            except:\n",
    "                error_list.append((year,team))\n",
    "    return salary_list,error_list"
   ]
  }
 ],
 "metadata": {
  "kernelspec": {
   "display_name": "Python 3",
   "language": "python",
   "name": "python3"
  },
  "language_info": {
   "codemirror_mode": {
    "name": "ipython",
    "version": 3
   },
   "file_extension": ".py",
   "mimetype": "text/x-python",
   "name": "python",
   "nbconvert_exporter": "python",
   "pygments_lexer": "ipython3",
   "version": "3.6.0"
  }
 },
 "nbformat": 4,
 "nbformat_minor": 2
}
