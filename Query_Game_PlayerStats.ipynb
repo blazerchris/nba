{
 "cells": [
  {
   "cell_type": "code",
   "execution_count": 1,
   "metadata": {
    "collapsed": true
   },
   "outputs": [],
   "source": [
    "from selenium import webdriver\n",
    "from selenium.webdriver.common.by import By\n",
    "from selenium.webdriver.support.ui import WebDriverWait\n",
    "from selenium.webdriver.support import expected_conditions as EC\n",
    "import collections\n",
    "import csv"
   ]
  },
  {
   "cell_type": "code",
   "execution_count": 7,
   "metadata": {
    "collapsed": false
   },
   "outputs": [],
   "source": [
    "#driver = webdriver.Chrome(\"/Users/zhengyi/Documents/Analytics Tool/Codes/chromedriver\")"
   ]
  },
  {
   "cell_type": "code",
   "execution_count": 4,
   "metadata": {
    "collapsed": true
   },
   "outputs": [],
   "source": [
    "#game_id = [\"0021600164\",\"0021600341\",\"0021600540\",\"0021601091\"]"
   ]
  },
  {
   "cell_type": "code",
   "execution_count": 17,
   "metadata": {
    "collapsed": true
   },
   "outputs": [],
   "source": [
    "def getHeader(header_link):\n",
    "    header_list = list()\n",
    "    header_list.append(\"TEAM\")\n",
    "    for tag in header_link.find_elements_by_tag_name('th'):\n",
    "        raw = tag.text\n",
    "        header_list.append(\" \".join(raw.split(\"\\n\")))\n",
    "    return header_list"
   ]
  },
  {
   "cell_type": "code",
   "execution_count": 18,
   "metadata": {
    "collapsed": true
   },
   "outputs": [],
   "source": [
    "def playerData(team,headers,teamName,writer):\n",
    "    for player in team:\n",
    "        player_dict = collections.OrderedDict()\n",
    "        if len(player.find_element_by_xpath('.//td[3]').text) < 4:\n",
    "            player_dict[headers[0]] = teamName\n",
    "            raw_name = player.find_element_by_xpath('.//td[1]/a').text\n",
    "            if raw_name[-2] is \" \":\n",
    "                player_dict[headers[1]] = raw_name[:-2]\n",
    "            else:\n",
    "                player_dict[headers[1]] = raw_name\n",
    "            for i in range(2,len(headers)):\n",
    "                tag = \".//td[\"+str(i)+\"]\"\n",
    "                player_dict[headers[i]] = player.find_element_by_xpath(tag).text\n",
    "            writer.writerow(player_dict.values())"
   ]
  },
  {
   "cell_type": "code",
   "execution_count": 19,
   "metadata": {
    "collapsed": false
   },
   "outputs": [],
   "source": [
    "def playerData_by_gameID(gameid,statsType=\"traditional\"):\n",
    "    driver = webdriver.Chrome(\"/Users/zhengyi/Documents/Analytics Tool/Codes/chromedriver\")\n",
    "    validTypes = [\"advanced\",\"misc\",\"scoring\",\"usage\",\"four-factors\",\"tracking\",\"hustle\"]\n",
    "    if statsType == \"traditional\":\n",
    "        game_link = \"http://stats.nba.com/game/#!/\"+gameid+\"/\"\n",
    "    elif statsType in validTypes:\n",
    "        game_link = \"http://stats.nba.com/game/#!/\"+gameid+\"/\"+statsType+\"/\"\n",
    "    driver.get(game_link)\n",
    "    team1_name = driver.find_element_by_xpath(\"/html/body/main/div[2]/div/div/div[3]/div/div/div[2]/div[3]/div/div/div[1]/div/table/tbody/tr[1]/td[1]\").text\n",
    "    team2_name = driver.find_element_by_xpath(\"/html/body/main/div[2]/div/div/div[3]/div/div/div[2]/div[3]/div/div/div[1]/div/table/tbody/tr[2]/td[1]\").text\n",
    "    header_link = driver.find_element_by_xpath(\"/html/body/main/div[2]/div/div/div[4]/div/div[2]/div/nba-stat-table[1]/div[1]/div[1]/table/thead/tr\")\n",
    "    headers = getHeader(header_link)\n",
    "    filename = team1_name+team2_name+gameid+statsType[:4].upper()+\".csv\"\n",
    "    csv_file = open(filename, 'w')\n",
    "    writer = csv.writer(csv_file)\n",
    "    writer.writerow(headers)\n",
    "    team1 = driver.find_elements_by_xpath('/html/body/main/div[2]/div/div/div[4]/div/div[2]/div/nba-stat-table[1]/div[1]/div[1]/table/tbody/tr')\n",
    "    playerData(team1,headers,team1_name,writer)\n",
    "    team2 = driver.find_elements_by_xpath('/html/body/main/div[2]/div/div/div[4]/div/div[2]/div/nba-stat-table[2]/div[1]/div[1]/table/tbody/tr')\n",
    "    playerData(team2,headers,team2_name,writer)\n",
    "    csv_file.close()\n",
    "    driver.close()"
   ]
  },
  {
   "cell_type": "code",
   "execution_count": 5,
   "metadata": {
    "collapsed": true
   },
   "outputs": [],
   "source": [
    "#headers = driver.find_element_by_xpath(\"/html/body/main/div[2]/div/div/div[4]/div/div[2]/div/nba-stat-table[1]/div[1]/div[1]/table/thead/tr\")"
   ]
  },
  {
   "cell_type": "code",
   "execution_count": 6,
   "metadata": {
    "collapsed": false,
    "scrolled": true
   },
   "outputs": [],
   "source": [
    "#headers"
   ]
  },
  {
   "cell_type": "code",
   "execution_count": 8,
   "metadata": {
    "collapsed": false
   },
   "outputs": [],
   "source": [
    "#driver.get(\"http://stats.nba.com/game/#!/0021600164/misc/\")"
   ]
  },
  {
   "cell_type": "code",
   "execution_count": 22,
   "metadata": {
    "collapsed": true
   },
   "outputs": [],
   "source": [
    "playerData_by_gameID(\"0021600164\",\"misc\")"
   ]
  },
  {
   "cell_type": "code",
   "execution_count": 8,
   "metadata": {
    "collapsed": true
   },
   "outputs": [],
   "source": [
    "driver = webdriver.Chrome(\"/Users/zhengyi/Documents/Analytics Tool/Codes/chromedriver\")"
   ]
  },
  {
   "cell_type": "code",
   "execution_count": 9,
   "metadata": {
    "collapsed": true
   },
   "outputs": [],
   "source": [
    "driver.get(\"http://stats.nba.com/game/#!/0021600164/\")"
   ]
  },
  {
   "cell_type": "code",
   "execution_count": 10,
   "metadata": {
    "collapsed": true
   },
   "outputs": [],
   "source": [
    "header_link = driver.find_element_by_xpath(\"/html/body/main/div[2]/div/div/div[4]/div/div[2]/div/nba-stat-table[1]/div[1]/div[1]/table/thead/tr\")"
   ]
  },
  {
   "cell_type": "code",
   "execution_count": 11,
   "metadata": {
    "collapsed": false
   },
   "outputs": [
    {
     "data": {
      "text/plain": [
       "<selenium.webdriver.remote.webelement.WebElement (session=\"6c576823d70a374246e9d32525b2fd09\", element=\"0.7144401120499331-1\")>"
      ]
     },
     "execution_count": 11,
     "metadata": {},
     "output_type": "execute_result"
    }
   ],
   "source": [
    "header_link"
   ]
  },
  {
   "cell_type": "code",
   "execution_count": 20,
   "metadata": {
    "collapsed": false
   },
   "outputs": [
    {
     "data": {
      "text/plain": [
       "['TEAM',\n",
       " 'PLAYER',\n",
       " 'MIN',\n",
       " 'FGM',\n",
       " 'FGA',\n",
       " 'FG%',\n",
       " '3PM',\n",
       " '3PA',\n",
       " '3P%',\n",
       " 'FTM',\n",
       " 'FTA',\n",
       " 'FT%',\n",
       " 'OREB',\n",
       " 'DREB',\n",
       " 'REB',\n",
       " 'AST',\n",
       " 'TOV',\n",
       " 'STL',\n",
       " 'BLK',\n",
       " 'PF',\n",
       " 'PTS',\n",
       " '+/-']"
      ]
     },
     "execution_count": 20,
     "metadata": {},
     "output_type": "execute_result"
    }
   ],
   "source": [
    "headers = getHeader(header_link)\n",
    "headers"
   ]
  },
  {
   "cell_type": "code",
   "execution_count": null,
   "metadata": {
    "collapsed": true
   },
   "outputs": [],
   "source": []
  }
 ],
 "metadata": {
  "kernelspec": {
   "display_name": "Python 3",
   "language": "python",
   "name": "python3"
  },
  "language_info": {
   "codemirror_mode": {
    "name": "ipython",
    "version": 3
   },
   "file_extension": ".py",
   "mimetype": "text/x-python",
   "name": "python",
   "nbconvert_exporter": "python",
   "pygments_lexer": "ipython3",
   "version": "3.6.0"
  }
 },
 "nbformat": 4,
 "nbformat_minor": 2
}
